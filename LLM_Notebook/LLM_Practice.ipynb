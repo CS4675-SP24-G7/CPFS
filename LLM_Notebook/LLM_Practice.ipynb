{
 "cells": [
  {
   "cell_type": "code",
   "execution_count": null,
   "id": "e9541445-ea3f-47e9-9dfc-31ff62b4144e",
   "metadata": {},
   "outputs": [],
   "source": [
    "%%capture\n",
    "%pip install openai\n",
    "%pip install langchain-openai\n"
   ]
  },
  {
   "cell_type": "code",
   "execution_count": 1,
   "id": "5d9548da-f57a-4662-8446-2ddcb761d634",
   "metadata": {},
   "outputs": [],
   "source": [
    "from openai import OpenAI"
   ]
  },
  {
   "cell_type": "markdown",
   "id": "1d0e5488-1b6a-49e7-b959-6913bbbad665",
   "metadata": {},
   "source": [
    "# Amazon Data"
   ]
  },
  {
   "cell_type": "markdown",
   "id": "a3eb55a7-25d5-4bb2-abcd-9d73b2c1fab6",
   "metadata": {},
   "source": [
    "## Data Loader"
   ]
  },
  {
   "cell_type": "code",
   "execution_count": 14,
   "id": "e3cce296-b487-4945-a8a9-a80e25398017",
   "metadata": {},
   "outputs": [
    {
     "data": {
      "text/plain": [
       "\"FeaturesDict({\\n    'author': string,\\n    'body': string,\\n    'content': string,\\n    'id': string,\\n    'normalizedBody': string,\\n    'subreddit': string,\\n    'subreddit_id': string,\\n    'summary': string,\\n})\""
      ]
     },
     "execution_count": 14,
     "metadata": {},
     "output_type": "execute_result"
    }
   ],
   "source": [
    "## Dataset format\n",
    "\"\"\"FeaturesDict({\n",
    "    'author': string,\n",
    "    'body': string,\n",
    "    'content': string,\n",
    "    'id': string,\n",
    "    'normalizedBody': string,\n",
    "    'subreddit': string,\n",
    "    'subreddit_id': string,\n",
    "    'summary': string,\n",
    "})\"\"\""
   ]
  },
  {
   "cell_type": "code",
   "execution_count": 17,
   "id": "53b5262b-f408-43f3-91fe-c7d7cb8cb6b6",
   "metadata": {},
   "outputs": [],
   "source": [
    "# Files downloaded from http://snap.stanford.edu/data/web-Amazon-links.html\n",
    "reviews_file = 'Watches'"
   ]
  },
  {
   "cell_type": "code",
   "execution_count": 19,
   "id": "9e47c1e1-9789-497f-bc90-efde4acbcf08",
   "metadata": {},
   "outputs": [],
   "source": [
    "import json\n",
    "\n",
    "def parse_file_to_json_grouped_by_product_id(file_path):\n",
    "    products = {}\n",
    "    \n",
    "    with open(file_path, 'r') as file:\n",
    "        current_entry = {}\n",
    "        for line in file:\n",
    "            if line.strip():\n",
    "                key, value = line.split(': ', 1)\n",
    "                # Adjusting for keys that contain '/'\n",
    "                formatted_key = key.replace('/', '_')\n",
    "                current_entry[formatted_key] = value.strip()\n",
    "            else:\n",
    "                if current_entry:\n",
    "                    product_id = current_entry['product_productId']\n",
    "                    if product_id in products:\n",
    "                        products[product_id].append(current_entry)\n",
    "                    else:\n",
    "                        products[product_id] = [current_entry]\n",
    "                    current_entry = {}\n",
    "                if current_entry:\n",
    "            product_id = current_entry['product_productId']\n",
    "            if product_id in products:\n",
    "                products[product_id].append(current_entry)\n",
    "            else:\n",
    "                products[product_id] = [current_entry]\n",
    "    \n",
    "    # Convert the dictionary to JSON\n",
    "    json_data = json.dumps(products, indent=4)\n",
    "    \n",
    "    return json_data\n",
    "\n",
    "file_path = reviews_file + '.txt'\n",
    "json_output = parse_file_to_json_grouped_by_product_id(file_path)\n",
    "#print(json_output['B000NLZ4A2'])\n",
    "\n",
    "with open(reviews_file + '_grouped.json', 'w') as json_file:\n",
    "    json_file.write(json_output)\n"
   ]
  },
  {
   "cell_type": "code",
   "execution_count": 20,
   "id": "dcc28106",
   "metadata": {},
   "outputs": [],
   "source": [
    "def load_products_from_json(file_path):\n",
    "    with open(file_path, 'r') as file:\n",
    "        products = json.load(file)\n",
    "    return products\n",
    "\n",
    "products = load_products_from_json(reviews_file + '_grouped.json')"
   ]
  },
  {
   "cell_type": "code",
   "execution_count": 21,
   "id": "2167cccf",
   "metadata": {},
   "outputs": [
    {
     "name": "stdout",
     "output_type": "stream",
     "text": [
      "Most Reviews: B0006AAS4M with 685 reviews\n"
     ]
    }
   ],
   "source": [
    "review_counts = {}\n",
    "\n",
    "# iterate through product IDs and count for max\n",
    "for product_id, reviews in products.items():\n",
    "    review_counts[product_id] = len(reviews)\n",
    "max_reviews_product_id = max(review_counts, key=review_counts.get)\n",
    "max_reviews_count = review_counts[max_reviews_product_id]\n",
    "\n",
    "print(f'Most Reviews: {max_reviews_product_id} with {max_reviews_count} reviews')"
   ]
  },
  {
   "cell_type": "code",
   "execution_count": 24,
   "id": "b0a50aba",
   "metadata": {},
   "outputs": [
    {
     "name": "stdout",
     "output_type": "stream",
     "text": [
      "{\n",
      "    \"product_price\": \"79.85\",\n",
      "    \"product_productId\": \"B0006AAS4M\",\n",
      "    \"product_title\": \"Invicta Men's 8926 Pro Diver Collection Automatic Watch\",\n",
      "    \"review_helpfulness\": \"0/1\",\n",
      "    \"review_profileName\": \"Bubba\",\n",
      "    \"review_score\": \"2.0\",\n",
      "    \"review_summary\": \"What customer service.\",\n",
      "    \"review_text\": \"I emailed Invicta for advice in adjusting the watchband and was ignored. I bought the watch to use while snorkling and I got the automatic because I do not think the quartz watches are much different among brands except for the case and therefore not worth the premium price. I am sorry I bought an Invicta because the total lack of customer service.\",\n",
      "    \"review_time\": \"1360540800\",\n",
      "    \"review_userId\": \"A1U6FVN74QJ341\"\n",
      "}\n"
     ]
    }
   ],
   "source": [
    "import random\n",
    "# print random review\n",
    "max_reviews = products[max_reviews_product_id]\n",
    "print(json.dumps(max_reviews[random.randint(0, len(max_reviews))], indent=4, sort_keys=True))"
   ]
  },
  {
   "cell_type": "markdown",
   "id": "94d35c1d",
   "metadata": {},
   "source": [
    "### Finally getting list of Reviews\n",
    "May be able to use other data such as helpfulness, etc."
   ]
  },
  {
   "cell_type": "code",
   "execution_count": 35,
   "id": "5dfebcac",
   "metadata": {},
   "outputs": [
    {
     "name": "stdout",
     "output_type": "stream",
     "text": [
      "I first heard about this watch on the Poor Man's Watch site. I found it on Amazon.com. I then performed a product review by reading these types of reviews and then I ordered the watch. It arrived in less than seven days. there were no S/H fees or taxes. I paid $79.00 which included a beautiful box, cleaning cloth, warranty and instruction. By the way the box alone is probably worth the money I paid for the watch and yes on some sites, it is advertisted and you are given the impression that it is a separate cost item that does not come with the watch. The price on this site was the lowest price I've found for this watch.Now here is the good part: This watch is an extraordinary value for this price or higher, (much higher). The quality of the bracelet and case is wonderful. the watch has a Japanese automatic movement not a Swiss movement and has been keeping very good time since I've had it (less than a 30 second gain in a week) with constant wear and the sweep second hand is fluid but not 28,000+/- bph. The hands and dial were very bright after exposure to the light and stayed that way all night. The front and rear crystals are real sapphire, the beautiful braclet is part brush and part polish stainless steel. The polish portion of the band is beautiful but I would supspect that it might scar after some period of wear. However I've knock against it several times without any noticeable affect. I had several links taken out of this watch at a local watch kiosk in the mall. I asked the owner to exchange the original link pins with new ones since I heard that the original watch pins were ineffective in maintaining the integrity of the bracelet once it/they were removed and replaced back in the watch. Upon the watch dealer's examination he told me that it wasn't necessary to exchange the pins because the existing link pins had a feature found on better made watches that prevented their slippage. He showed me the pins and thier spring like locking mechanism before he reinstalled them. However for peace of mind I had him put a drop of supper glue on each pin...smile.I have several more expensive watches but I really have fallen in love with this watch. For the price you can't find a more solid, seeming durable, functional and handsome new automatic watch anywhere for the price. Amazon was great to deal with and if you can get this watch for the same price, better or even at a higher price then you better do it soon. As I said the watch box is more durable and more beautiful than many others that I seen. I hope this helps.\n"
     ]
    }
   ],
   "source": [
    "def extract_reviews_most_freq(products, most_freq_id):\n",
    "    reviews = []\n",
    "    for entry in products[most_freq_id]:\n",
    "        review_text = entry.get(\"review_text\", \"\")\n",
    "        if review_text:\n",
    "            reviews.append(review_text)\n",
    "    \n",
    "    return reviews\n",
    "\n",
    "reviews = extract_reviews_most_freq(products, max_reviews_product_id)\n",
    "#print random review\n",
    "print(reviews[random.randint(0, len(reviews))])\n",
    "reviews_stringified = str(reviews[0:10]) # test with 10 reviews for now"
   ]
  },
  {
   "cell_type": "code",
   "execution_count": null,
   "id": "9fbe77f6-d0e3-46c3-8525-d1dbcdbac734",
   "metadata": {},
   "outputs": [],
   "source": []
  },
  {
   "cell_type": "markdown",
   "id": "a50dcc0e-7326-46ba-bee9-601e64ba06d0",
   "metadata": {},
   "source": [
    "## Review Preprocessing"
   ]
  },
  {
   "cell_type": "code",
   "execution_count": null,
   "id": "cc79bf38-0578-4bd7-b22f-51199afaf1c3",
   "metadata": {},
   "outputs": [],
   "source": [
    "from bs4 import BeautifulSoup\n",
    "from urllib.parse import urlparse\n",
    "import nltk\n",
    "from nltk.tokenize import word_tokenize\n",
    "from nltk.corpus import stopwords\n",
    "from nltk.probability import FreqDist\n",
    "\n",
    "nltk.download('stopwords')\n",
    "nltk.download('punkt')"
   ]
  },
  {
   "cell_type": "code",
   "execution_count": null,
   "id": "3232a8ce-3fef-4334-8ec9-28882a50813e",
   "metadata": {},
   "outputs": [],
   "source": [
    "def extract_keywords(response, keyword_limit=10):\n",
    "    #remove stopwords\n",
    "    tokens = word_tokenize(response)\n",
    "    stop_words = set(stopwords.words('english'))\n",
    "    filter_tokens = [word.lower() for word in tokens if word.lower() not in stop_words and word.isalnum()]\n",
    "\n",
    "    # focus on frequent words\n",
    "    freq_dist = FreqDist(filter_tokens) #also gather word frequencies\n",
    "    keywords = [word for word, freq in freq_dist.most_common(keyword_limit)]\n",
    "    return keywords"
   ]
  },
  {
   "cell_type": "code",
   "execution_count": null,
   "id": "f0ac0934-03f9-4483-90b0-f7febacd55b3",
   "metadata": {},
   "outputs": [],
   "source": []
  },
  {
   "cell_type": "markdown",
   "id": "ef8c12c6-baf0-4dfc-ac29-9d62eafbb656",
   "metadata": {},
   "source": [
    "## LLM Interpreter"
   ]
  },
  {
   "cell_type": "code",
   "execution_count": 37,
   "id": "2fae2fe0-8e77-4eb6-82d5-d0a3f50f1486",
   "metadata": {},
   "outputs": [],
   "source": [
    "system_message = 'You are a sentiment analyzer. Your missions is to read through a list of amazon reviews for a specific product and summarize the key aspect of significant reviews. It is crucial the you weigh the importance of the review by how meaningful they are and how relevant the review is to the product. You are to look at one review at a time and evalute the significance of each. Then, from your evalutation, combine these reviews based on the weights you found. This resulting compilation should be a list of good and bad parts of all the reviews overall. Please print responses in markdown.'\n",
    "\n"
   ]
  },
  {
   "cell_type": "code",
   "execution_count": 38,
   "id": "452030b1-1432-4063-923b-2177b475f109",
   "metadata": {},
   "outputs": [],
   "source": [
    "\n",
    "import langchain_openai\n",
    "from langchain_openai import ChatOpenAI\n",
    "\n",
    "llm = ChatOpenAI()"
   ]
  },
  {
   "cell_type": "code",
   "execution_count": 39,
   "id": "fa43d1c6-19d3-44fd-a9fd-7aadd10d511e",
   "metadata": {},
   "outputs": [],
   "source": [
    "from langchain_core.prompts import ChatPromptTemplate\n",
    "prompt = ChatPromptTemplate.from_messages([\n",
    "    (\"system\", system_message),\n",
    "    (\"user\", \"{input}\")\n",
    "])"
   ]
  },
  {
   "cell_type": "code",
   "execution_count": 40,
   "id": "51f50df0-7d38-45f3-ab2a-bad443ebd141",
   "metadata": {},
   "outputs": [],
   "source": [
    "chain = prompt | llm "
   ]
  },
  {
   "cell_type": "code",
   "execution_count": 41,
   "id": "3d3f2b35-7d57-42af-a77c-5d2f291c8672",
   "metadata": {},
   "outputs": [
    {
     "data": {
      "text/plain": [
       "AIMessage(content='### Positive Aspects:\\n1. **Quality and Design:** \\n   - Multiple reviewers praised the beautiful design and quality of the watch, especially noting the upgraded movement with 24 jewels and engine-turned rotor.\\n   - The automatic movement was well-received for its accuracy and value for the price.\\n   - The watch received compliments for its appearance and versatility for different occasions.\\n\\n2. **Value for Money:**\\n   - Reviewers appreciated the affordable price for the quality of the watch, stating it was the best watch they had purchased in terms of value.\\n   - The fast shipping and good delivery service were also positively mentioned.\\n\\n3. **Durability and Performance:**\\n   - The watch was noted for its durability and ability to keep accurate time even after being exposed to water and various tasks.\\n   - The self-winding mechanism was appreciated, and the watch was reported to keep time well.\\n\\n### Negative Aspects:\\n1. **Accuracy Issues:**\\n   - One reviewer mentioned that the watch ran a few seconds fast every day, indicating accuracy issues.\\n   - There was another complaint about the watch not working accurately from the beginning, which was a significant drawback for the functionality of the product.\\n\\n2. **Size Concerns:**\\n   - A minor issue raised was that the watch face was smaller than expected, which might be a personal preference but still worth noting for potential buyers.\\n\\n3. **Quality Control Problems:**\\n   - There were complaints about receiving a faulty product that never worked, suggesting potential quality control issues.\\n   - Another reviewer highlighted concerns about the high original price versus the actual performance of the watch.\\n\\nOverall, while the watch received high praise for its design, value, and durability, the accuracy issues and quality control problems mentioned by some reviewers are significant aspects to consider before making a purchase decision.', response_metadata={'token_usage': {'completion_tokens': 363, 'prompt_tokens': 803, 'total_tokens': 1166}, 'model_name': 'gpt-3.5-turbo', 'system_fingerprint': 'fp_b28b39ffa8', 'finish_reason': 'stop', 'logprobs': None}, id='run-d1dc946e-da7e-4e95-b0c0-b6251d163016-0')"
      ]
     },
     "execution_count": 41,
     "metadata": {},
     "output_type": "execute_result"
    }
   ],
   "source": [
    "request = reviews_stringified\n",
    "chain.invoke({\"input\": request})"
   ]
  },
  {
   "cell_type": "code",
   "execution_count": null,
   "id": "122bebeb-2343-4c98-b1ca-d81d15c8b355",
   "metadata": {},
   "outputs": [],
   "source": []
  }
 ],
 "metadata": {
  "kernelspec": {
   "display_name": "Python 3 (ipykernel)",
   "language": "python",
   "name": "python3"
  },
  "language_info": {
   "codemirror_mode": {
    "name": "ipython",
    "version": 3
   },
   "file_extension": ".py",
   "mimetype": "text/x-python",
   "name": "python",
   "nbconvert_exporter": "python",
   "pygments_lexer": "ipython3",
   "version": "3.9.12"
  }
 },
 "nbformat": 4,
 "nbformat_minor": 5
}
